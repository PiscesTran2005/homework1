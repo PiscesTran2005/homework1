{
 "cells": [
  {
   "cell_type": "markdown",
   "metadata": {},
   "source": [
    "4.1, Dataset"
   ]
  },
  {
   "cell_type": "code",
   "execution_count": 1,
   "metadata": {},
   "outputs": [],
   "source": [
    "import numpy as np\n",
    "\n",
    "def create_train_data():\n",
    "\n",
    "  data=[['Sunny','Hot', 'High', 'Weak', 'no'],\n",
    "        ['Sunny','Hot', 'High', 'Strong', 'no'],\n",
    "        ['Overcast','Hot', 'High', 'Weak', 'yes'],\n",
    "        ['Rain','Mild', 'High', 'Weak', 'yes'],\n",
    "        ['Rain','Cool', 'Normal', 'Weak', 'yes'],\n",
    "        ['Rain','Cool', 'Normal', 'Strong', 'no'],\n",
    "        ['Overcast','Cool', 'Normal', 'Strong', 'yes'],\n",
    "        ['Overcast','Mild', 'High', 'Weak', 'no'],\n",
    "        ['Sunny','Cool', 'Normal', 'Weak', 'yes'],\n",
    "        ['Rain','Mild', 'Normal', 'Weak', 'yes']\n",
    "        ]\n",
    "  return np.array(data)\n",
    "\n",
    "train_data = create_train_data()    "
   ]
  },
  {
   "cell_type": "markdown",
   "metadata": {},
   "source": [
    "4.2, Prior probability"
   ]
  },
  {
   "cell_type": "code",
   "execution_count": 2,
   "metadata": {},
   "outputs": [
    {
     "name": "stdout",
     "output_type": "stream",
     "text": [
      "P(“Play Tennis” = No) 0.4\n",
      "P(“Play Tennis” = Yes) 0.6\n"
     ]
    }
   ],
   "source": [
    "def compute_prior_probablity(train_data):\n",
    "  y_unique = ['no', 'yes']\n",
    "  prior_probability = np.zeros(len(y_unique))\n",
    "  for i in range(0,len(y_unique)):\n",
    "    prior_probability[i]=len(np.where(train_data[:,4] == y_unique[i])[0])/len(train_data)\n",
    "  return prior_probability\n",
    "\n",
    "prior_probablity = compute_prior_probablity(train_data)\n",
    "print(\"P(“Play Tennis” = No)\", prior_probablity[0])\n",
    "print(\"P(“Play Tennis” = Yes)\", prior_probablity[1])"
   ]
  },
  {
   "cell_type": "markdown",
   "metadata": {},
   "source": [
    "4.3, Conditional probability"
   ]
  },
  {
   "cell_type": "code",
   "execution_count": 3,
   "metadata": {},
   "outputs": [],
   "source": [
    "def compute_conditional_probability(train_data):\n",
    "  y_unique = ['no', 'yes']\n",
    "  conditional_probability = []\n",
    "  list_x_name = []\n",
    "  for i in range(0,train_data.shape[1]-1):\n",
    "    x_unique = np.unique(train_data[:,i])\n",
    "    print(\"x_unique\", x_unique)\n",
    "\n",
    "    list_x_name.append(x_unique)\n",
    "\n",
    "    x_conditional_probability = np.zeros((len(y_unique),len(x_unique)))\n",
    "    for j in range(0,len(y_unique)):\n",
    "      for k in range(0,len(x_unique)):\n",
    "        x_conditional_probability[j,k]= len(np.where((train_data[:,i] == x_unique[k]) & (train_data[:,4] == y_unique[j]))[0])/len(np.where(train_data[:,4] == y_unique[j])[0])\n",
    "\n",
    "    conditional_probability.append(x_conditional_probability)\n",
    "  return conditional_probability, list_x_name"
   ]
  },
  {
   "cell_type": "markdown",
   "metadata": {},
   "source": [
    "4.4, Get index from feature "
   ]
  },
  {
   "cell_type": "code",
   "execution_count": 4,
   "metadata": {},
   "outputs": [],
   "source": [
    "def get_index_from_value(feature_name, list_features):\n",
    "  return np.where(list_features == feature_name)[0][0]"
   ]
  },
  {
   "cell_type": "markdown",
   "metadata": {},
   "source": [
    "4.5, Train Naive Bayes Model"
   ]
  },
  {
   "cell_type": "code",
   "execution_count": 5,
   "metadata": {},
   "outputs": [],
   "source": [
    "def train_naive_bayes(train_data):\n",
    "    # Step 1: Calculate Prior Probability\n",
    "    prior_probability = compute_prior_probablity(train_data)\n",
    "\n",
    "    # Step 2: Calculate Conditional Probability\n",
    "    conditional_probability, list_x_name  = compute_conditional_probability(train_data)\n",
    "\n",
    "    return prior_probability,conditional_probability, list_x_name"
   ]
  },
  {
   "cell_type": "markdown",
   "metadata": {},
   "source": [
    "4.6, Prediction"
   ]
  },
  {
   "cell_type": "code",
   "execution_count": 7,
   "metadata": {},
   "outputs": [],
   "source": [
    "####################\n",
    "def prediction_play_tennis(X, list_x_name, prior_probability, conditional_probability):\n",
    "\n",
    "    x1=get_index_from_value(X[0],list_x_name[0])\n",
    "    x2=get_index_from_value(X[1],list_x_name[1])\n",
    "    x3=get_index_from_value(X[2],list_x_name[2])\n",
    "    x4=get_index_from_value(X[3],list_x_name[3])\n",
    "\n",
    "    p0=prior_probability[0] \\\n",
    "    *conditional_probability[0][0,x1] \\\n",
    "    *conditional_probability[1][0,x2] \\\n",
    "    *conditional_probability[2][0,x3] \\\n",
    "    *conditional_probability[3][0,x4]\n",
    "\n",
    "    p1=prior_probability[1]\\\n",
    "    *conditional_probability[0][1,x1]\\\n",
    "    *conditional_probability[1][1,x2]\\\n",
    "    *conditional_probability[2][1,x3]\\\n",
    "    *conditional_probability[3][1,x4]\n",
    "\n",
    "    # print(p0, p1)\n",
    "\n",
    "    if p0>p1:\n",
    "        y_pred=0\n",
    "    else:\n",
    "        y_pred=1\n",
    "\n",
    "    return y_pred\n"
   ]
  }
 ],
 "metadata": {
  "kernelspec": {
   "display_name": "base",
   "language": "python",
   "name": "python3"
  },
  "language_info": {
   "codemirror_mode": {
    "name": "ipython",
    "version": 3
   },
   "file_extension": ".py",
   "mimetype": "text/x-python",
   "name": "python",
   "nbconvert_exporter": "python",
   "pygments_lexer": "ipython3",
   "version": "3.11.7"
  }
 },
 "nbformat": 4,
 "nbformat_minor": 2
}
