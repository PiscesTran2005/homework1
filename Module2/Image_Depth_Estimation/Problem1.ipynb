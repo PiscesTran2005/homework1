{
 "cells": [
  {
   "cell_type": "code",
   "execution_count": 2,
   "metadata": {},
   "outputs": [],
   "source": [
    "import cv2 # type: ignore\n",
    "import numpy as np # type: ignore"
   ]
  },
  {
   "cell_type": "code",
   "execution_count": 2,
   "metadata": {},
   "outputs": [],
   "source": [
    "def l1_distance(x, y):\n",
    "    return abs(x - y)\n",
    "\n",
    "def l2_distance(x, y):\n",
    "    return (x - y) ** 2"
   ]
  },
  {
   "cell_type": "code",
   "execution_count": 4,
   "metadata": {},
   "outputs": [
    {
     "data": {
      "text/plain": [
       "-1"
      ]
     },
     "execution_count": 4,
     "metadata": {},
     "output_type": "execute_result"
    }
   ],
   "source": [
    "left_img_path = 'Tsukuba/left.png'\n",
    "right_img_path = 'Tsukuba/right.png'\n",
    "disparity_range = 16\n",
    "\n",
    "left = cv2.imread(left_img_path)\n",
    "right = cv2.imread(right_img_path)\n",
    "\n",
    "cv2.imshow(\"Left\",left)\n",
    "cv2.imshow(\"Right\",right)\n",
    "cv2.waitKey()\n"
   ]
  },
  {
   "cell_type": "code",
   "execution_count": 5,
   "metadata": {},
   "outputs": [],
   "source": [
    "def pixel_wise_matching_l1(left_img, right_img, disparity_range, save_result=True):\n",
    "    # Read left, right images then convert to grayscale\n",
    "    left  = cv2.imread(left_img, 0)\n",
    "    right = cv2.imread(right_img, 0)\n",
    "\n",
    "    left  = left.astype(np.float32)\n",
    "    right = right.astype(np.float32)\n",
    "\n",
    "    height, width = left.shape[:2]\n",
    "\n",
    "    # Create blank disparity map\n",
    "    depth = np.zeros((height, width), np.uint8)\n",
    "    scale = 16\n",
    "    max_value = 255\n",
    "\n",
    "    for y in range(height):\n",
    "        for x in range(width):\n",
    "            # Find j where cost has minimum value\n",
    "            disparity = 0\n",
    "            cost_min  = max_value\n",
    "\n",
    "            for j in range(disparity_range):\n",
    "                cost = max_value if (x - j) < 0 \\\n",
    "                                else l1_distance(int(left[y, x]), int(right[y, x - j]))\n",
    "\n",
    "                if cost < cost_min:\n",
    "                    cost_min  = cost\n",
    "                    disparity = j\n",
    "\n",
    "            # Let depth at (y, x) = j (disparity)\n",
    "            # Multiply by a scale factor for visualization purpose\n",
    "            depth[y, x] = disparity * scale\n",
    "\n",
    "    if save_result == True:\n",
    "        print('Saving result...')\n",
    "        # Save results\n",
    "        cv2.imwrite(f'pixel_wise_l1.png', depth)\n",
    "        cv2.imwrite(f'pixel_wise_l1_color.png', cv2.applyColorMap(depth, cv2.COLORMAP_JET))\n",
    "\n",
    "    print('Done.')\n",
    "\n",
    "    return depth, cv2.applyColorMap(depth, cv2.COLORMAP_JET)"
   ]
  },
  {
   "cell_type": "code",
   "execution_count": 7,
   "metadata": {},
   "outputs": [
    {
     "name": "stdout",
     "output_type": "stream",
     "text": [
      "Saving result...\n",
      "Done.\n"
     ]
    },
    {
     "data": {
      "text/plain": [
       "-1"
      ]
     },
     "execution_count": 7,
     "metadata": {},
     "output_type": "execute_result"
    }
   ],
   "source": [
    "depth, color = pixel_wise_matching_l1(\n",
    "    left_img_path,\n",
    "    right_img_path,\n",
    "    disparity_range,\n",
    "    save_result=True\n",
    ")\n",
    "cv2.imshow(\"Depth\",depth)\n",
    "cv2.imshow(\"Color\",color)\n",
    "cv2.waitKey()"
   ]
  },
  {
   "cell_type": "code",
   "execution_count": 10,
   "metadata": {},
   "outputs": [],
   "source": [
    "def pixel_wise_matching_l2(left_img, right_img, disparity_range, save_result=True):\n",
    "    # Read left, right images then convert to grayscale\n",
    "    left  = cv2.imread(left_img, 0)\n",
    "    right = cv2.imread(right_img, 0)\n",
    "\n",
    "    left  = left.astype(np.float32)\n",
    "    right = right.astype(np.float32)\n",
    "\n",
    "    height, width = left.shape[:2]\n",
    "\n",
    "    # Create blank disparity map\n",
    "    depth = np.zeros((height, width), np.uint8)\n",
    "    scale = 16\n",
    "    max_value = 255 ** 2\n",
    "\n",
    "    for y in range(height):\n",
    "        for x in range(width):\n",
    "            # Find j where cost has minimum value\n",
    "            disparity = 0\n",
    "            cost_min  = max_value\n",
    "\n",
    "            for j in range(disparity_range):\n",
    "                cost = max_value if (x - j) < 0 else l2_distance(int(left[y, x]), int(right[y, x - j]))\n",
    "\n",
    "                if cost < cost_min:\n",
    "                    cost_min  = cost\n",
    "                    disparity = j\n",
    "\n",
    "            # Let depth at (y, x) = j (disparity)\n",
    "            # Multiply by a scale factor for visualization purpose\n",
    "            depth[y, x] = disparity * scale\n",
    "\n",
    "    if save_result == True:\n",
    "        print('Saving result...')\n",
    "        # Save results\n",
    "        cv2.imwrite(f'pixel_wise_l2.png', depth)\n",
    "        cv2.imwrite(f'pixel_wise_l2_color.png', cv2.applyColorMap(depth, cv2.COLORMAP_JET))\n",
    "\n",
    "    print('Done.')\n",
    "\n",
    "    return depth, cv2.applyColorMap(depth, cv2.COLORMAP_JET)"
   ]
  },
  {
   "cell_type": "code",
   "execution_count": 11,
   "metadata": {},
   "outputs": [
    {
     "name": "stdout",
     "output_type": "stream",
     "text": [
      "Saving result...\n",
      "Done.\n"
     ]
    },
    {
     "data": {
      "text/plain": [
       "-1"
      ]
     },
     "execution_count": 11,
     "metadata": {},
     "output_type": "execute_result"
    }
   ],
   "source": [
    "depth, color = pixel_wise_matching_l2(\n",
    "    left_img_path,\n",
    "    right_img_path,\n",
    "    disparity_range,\n",
    "    save_result=True\n",
    ")\n",
    "cv2.imshow(\"Depth\",depth)\n",
    "cv2.imshow(\"Color\",color)\n",
    "cv2.waitKey()"
   ]
  }
 ],
 "metadata": {
  "kernelspec": {
   "display_name": "base",
   "language": "python",
   "name": "python3"
  },
  "language_info": {
   "codemirror_mode": {
    "name": "ipython",
    "version": 3
   },
   "file_extension": ".py",
   "mimetype": "text/x-python",
   "name": "python",
   "nbconvert_exporter": "python",
   "pygments_lexer": "ipython3",
   "version": "3.11.7"
  }
 },
 "nbformat": 4,
 "nbformat_minor": 2
}
