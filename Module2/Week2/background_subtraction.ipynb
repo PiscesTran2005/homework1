{
 "cells": [
  {
   "cell_type": "code",
   "execution_count": 1,
   "metadata": {},
   "outputs": [],
   "source": [
    "import numpy as np\n",
    "import cv2"
   ]
  },
  {
   "cell_type": "code",
   "execution_count": 8,
   "metadata": {},
   "outputs": [],
   "source": [
    "bg1_image = cv2.imread(r\"C:\\Users\\ADMIN\\Desktop\\AIO2024\\homework1\\Module2_Week2\\GreenBackground.png\", 1)\n",
    "bg1_image = cv2.resize(bg1_image, (678, 381))\n",
    "\n",
    "ob_image = cv2.imread(r\"C:\\Users\\ADMIN\\Desktop\\AIO2024\\homework1\\Module2_Week2\\Object.png\", 1)\n",
    "ob_image = cv2.resize(ob_image, (678, 381))\n",
    "\n",
    "bg2_image = cv2.imread(r\"C:\\Users\\ADMIN\\Desktop\\AIO2024\\homework1\\Module2_Week2\\NewBackground.jpg\", 1)\n",
    "bg2_image = cv2.resize(bg2_image, (678, 381))\n"
   ]
  },
  {
   "cell_type": "code",
   "execution_count": 9,
   "metadata": {},
   "outputs": [
    {
     "data": {
      "text/plain": [
       "-1"
      ]
     },
     "execution_count": 9,
     "metadata": {},
     "output_type": "execute_result"
    }
   ],
   "source": [
    "def computeDifference(bg_img, input_img):\n",
    "    difference_three_channel = cv2.absdiff(bg_img, input_img)\n",
    "    difference_single_channel = np.sum(difference_three_channel, axis=2) / 3.0\n",
    "    difference_single_channel = difference_single_channel.astype('uint8')\n",
    "\n",
    "    return difference_single_channel\n",
    "\n",
    "def computeBinaryMask(difference_single_channel):\n",
    "    difference_binary = np.where(difference_single_channel >= 15, 255, 0)\n",
    "    difference_binary = np.stack((difference_binary,)*3, axis=-1)\n",
    "    difference_binary = difference_binary.astype('uint8')\n",
    "    \n",
    "    return difference_binary\n",
    "\n",
    "def replaceBackGround(bg1_image, bg2_image, ob_image):\n",
    "    difference_single_channel = computeDifference(bg1_image,ob_image)\n",
    "    binary_mask = computeBinaryMask(difference_single_channel)\n",
    "\n",
    "    output = np.where(binary_mask==255, ob_image, bg2_image)\n",
    "\n",
    "    return output\n",
    "output = replaceBackGround(bg1_image, bg2_image, ob_image)\n",
    "\n",
    "cv2.imshow(\"Background subtraction\",output)\n",
    "cv2.waitKey()\n"
   ]
  }
 ],
 "metadata": {
  "kernelspec": {
   "display_name": "base",
   "language": "python",
   "name": "python3"
  },
  "language_info": {
   "codemirror_mode": {
    "name": "ipython",
    "version": 3
   },
   "file_extension": ".py",
   "mimetype": "text/x-python",
   "name": "python",
   "nbconvert_exporter": "python",
   "pygments_lexer": "ipython3",
   "version": "3.11.7"
  }
 },
 "nbformat": 4,
 "nbformat_minor": 2
}
