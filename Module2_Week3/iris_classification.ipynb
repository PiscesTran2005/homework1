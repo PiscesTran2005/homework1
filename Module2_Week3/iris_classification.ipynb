{
 "cells": [
  {
   "cell_type": "code",
   "execution_count": 1,
   "metadata": {},
   "outputs": [],
   "source": [
    "import numpy as np\n",
    "\n",
    "def create_train_data_iris():\n",
    "  data = np.loadtxt(\"iris.data.txt\", delimiter=\",\", dtype=str)\n",
    "  return data"
   ]
  },
  {
   "cell_type": "code",
   "execution_count": null,
   "metadata": {},
   "outputs": [],
   "source": [
    "def compute_prior_probablity_iris(train_data):\n",
    "  y_unique = np.unique(train_data[:,4])\n",
    "  prior_probability = np.zeros(len(y_unique))\n",
    "  for i in range(0,len(y_unique)):\n",
    "    prior_probability[i]=len(np.where(train_data[:,4] == y_unique[i])[0])/len(train_data)\n",
    "  return prior_probability"
   ]
  },
  {
   "cell_type": "code",
   "execution_count": null,
   "metadata": {},
   "outputs": [],
   "source": [
    "def compute_conditional_probability_iris(train_data):\n",
    "  y_unique = np.unique(train_data[:,4]) # 0 for Setosa, 1 for Versicolour, 2 for Virginica\n",
    "  x_feature = 4\n",
    "  conditional_probability = []\n",
    "  list_x_name = []\n",
    "  for i in range(0,train_data.shape[1]-1):\n",
    "    x_conditional_probability = np.zeros((len(y_unique), 2))\n",
    "    for j in range(0,len(y_unique)):\n",
    "        mean = np.mean((train_data[:,i][np.where(train_data[:,4] == y_unique[j])]).astype(float))\n",
    "        sigma =  np.std((train_data[:,i][np.where(train_data[:,4] == y_unique[j])]).astype(float))\n",
    "        sigma = sigma * sigma\n",
    "        x_conditional_probability[j]= [mean, sigma]\n",
    "\n",
    "    conditional_probability.append(x_conditional_probability)\n",
    "  return conditional_probability"
   ]
  },
  {
   "cell_type": "code",
   "execution_count": null,
   "metadata": {},
   "outputs": [],
   "source": [
    "import math\n",
    "#Define the Gaussian function\n",
    "def gauss(x, mean, sigma):\n",
    "  result = (1.0 / (np.sqrt(2*math.pi*sigma))) \\\n",
    "  * (np.exp(-(float(x) - mean) ** 2 / (2 * sigma)))\n",
    "  return result"
   ]
  },
  {
   "cell_type": "code",
   "execution_count": null,
   "metadata": {},
   "outputs": [],
   "source": [
    "def train_gaussian_naive_bayes(train_data):\n",
    "    # Step 1: Calculate Prior Probability\n",
    "    prior_probability = compute_prior_probablity_iris(train_data)\n",
    "\n",
    "    # Step 2: Calculate Conditional Probability\n",
    "    conditional_probability  = compute_conditional_probability_iris(train_data)\n",
    "\n",
    "    return prior_probability,conditional_probability\n"
   ]
  },
  {
   "cell_type": "code",
   "execution_count": null,
   "metadata": {},
   "outputs": [],
   "source": [
    "def prediction_iris(X,  prior_probability, conditional_probability):\n",
    "\n",
    "    p0=prior_probability[0] \\\n",
    "    *gauss(X[0], conditional_probability[0][0][0],conditional_probability[0][0][1])  \\\n",
    "    *gauss(X[1], conditional_probability[1][0][0],conditional_probability[1][0][1])  \\\n",
    "    *gauss(X[2], conditional_probability[2][0][0],conditional_probability[2][0][1])  \\\n",
    "    *gauss(X[3], conditional_probability[3][0][0],conditional_probability[3][0][1])\n",
    "\n",
    "    p1=prior_probability[1] \\\n",
    "    *gauss(X[0], conditional_probability[0][1][0],conditional_probability[0][1][1])  \\\n",
    "    *gauss(X[1], conditional_probability[1][1][0],conditional_probability[1][1][1])  \\\n",
    "    *gauss(X[2], conditional_probability[2][1][0],conditional_probability[2][1][1])  \\\n",
    "    *gauss(X[3], conditional_probability[3][1][0],conditional_probability[3][1][1])\n",
    "\n",
    "    p2=prior_probability[2] \\\n",
    "    *gauss(X[0], conditional_probability[0][2][0],conditional_probability[0][2][1])  \\\n",
    "    *gauss(X[1], conditional_probability[1][2][0],conditional_probability[1][2][1])  \\\n",
    "    *gauss(X[2], conditional_probability[2][2][0],conditional_probability[2][2][1])  \\\n",
    "    *gauss(X[3], conditional_probability[3][2][0],conditional_probability[3][2][1])\n",
    "\n",
    "    # print(p0, p1)\n",
    "\n",
    "    list_p = [p0, p1, p2]\n",
    "\n",
    "    return list_p.index(np.max(list_p))"
   ]
  },
  {
   "cell_type": "code",
   "execution_count": null,
   "metadata": {},
   "outputs": [],
   "source": []
  },
  {
   "cell_type": "code",
   "execution_count": null,
   "metadata": {},
   "outputs": [],
   "source": []
  },
  {
   "cell_type": "code",
   "execution_count": null,
   "metadata": {},
   "outputs": [],
   "source": []
  }
 ],
 "metadata": {
  "kernelspec": {
   "display_name": "base",
   "language": "python",
   "name": "python3"
  },
  "language_info": {
   "codemirror_mode": {
    "name": "ipython",
    "version": 3
   },
   "file_extension": ".py",
   "mimetype": "text/x-python",
   "name": "python",
   "nbconvert_exporter": "python",
   "pygments_lexer": "ipython3",
   "version": "3.11.7"
  }
 },
 "nbformat": 4,
 "nbformat_minor": 2
}
