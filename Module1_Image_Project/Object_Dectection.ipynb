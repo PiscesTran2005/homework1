{
 "cells": [
  {
   "cell_type": "code",
   "execution_count": 1,
   "metadata": {},
   "outputs": [
    {
     "name": "stdout",
     "output_type": "stream",
     "text": [
      "c:\\Users\\ADMIN\\Desktop\\AIO2024\\homework1\\Module1_Image_Project\\yolov10\n"
     ]
    },
    {
     "name": "stderr",
     "output_type": "stream",
     "text": [
      "Cloning into 'yolov10'...\n"
     ]
    }
   ],
   "source": [
    "!git clone https://github.com/THU-MIG/yolov10.git\n",
    "%cd yolov10"
   ]
  },
  {
   "cell_type": "code",
   "execution_count": 29,
   "metadata": {},
   "outputs": [
    {
     "name": "stdout",
     "output_type": "stream",
     "text": [
      "Note: you may need to restart the kernel to use updated packages.\n",
      "Obtaining file:///C:/Users/ADMIN/Desktop/AIO2024/homework1/Module1_Image%20Project/yolov10\n",
      "  Installing build dependencies: started\n",
      "  Installing build dependencies: finished with status 'done'\n",
      "  Checking if build backend supports build_editable: started\n",
      "  Checking if build backend supports build_editable: finished with status 'done'\n",
      "  Getting requirements to build editable: started\n",
      "  Getting requirements to build editable: finished with status 'done'\n",
      "  Preparing editable metadata (pyproject.toml): started\n",
      "  Preparing editable metadata (pyproject.toml): finished with status 'done'\n",
      "Requirement already satisfied: matplotlib>=3.3.0 in c:\\users\\admin\\anaconda3\\lib\\site-packages (from ultralytics==8.1.34) (3.8.0)\n",
      "Requirement already satisfied: opencv-python>=4.6.0 in c:\\users\\admin\\anaconda3\\lib\\site-packages (from ultralytics==8.1.34) (4.9.0.80)\n",
      "Requirement already satisfied: pillow>=7.1.2 in c:\\users\\admin\\anaconda3\\lib\\site-packages (from ultralytics==8.1.34) (10.2.0)\n",
      "Requirement already satisfied: pyyaml>=5.3.1 in c:\\users\\admin\\anaconda3\\lib\\site-packages (from ultralytics==8.1.34) (6.0.1)\n",
      "Requirement already satisfied: requests>=2.23.0 in c:\\users\\admin\\anaconda3\\lib\\site-packages (from ultralytics==8.1.34) (2.31.0)\n",
      "Requirement already satisfied: scipy>=1.4.1 in c:\\users\\admin\\anaconda3\\lib\\site-packages (from ultralytics==8.1.34) (1.13.0)\n",
      "Requirement already satisfied: torch>=1.8.0 in c:\\users\\admin\\anaconda3\\lib\\site-packages (from ultralytics==8.1.34) (2.0.1)\n",
      "Requirement already satisfied: torchvision>=0.9.0 in c:\\users\\admin\\anaconda3\\lib\\site-packages (from ultralytics==8.1.34) (0.15.2)\n",
      "Requirement already satisfied: tqdm>=4.64.0 in c:\\users\\admin\\anaconda3\\lib\\site-packages (from ultralytics==8.1.34) (4.65.0)\n",
      "Requirement already satisfied: psutil in c:\\users\\admin\\anaconda3\\lib\\site-packages (from ultralytics==8.1.34) (5.9.8)\n",
      "Requirement already satisfied: py-cpuinfo in c:\\users\\admin\\anaconda3\\lib\\site-packages (from ultralytics==8.1.34) (9.0.0)\n",
      "Requirement already satisfied: thop>=0.1.1 in c:\\users\\admin\\anaconda3\\lib\\site-packages (from ultralytics==8.1.34) (0.1.1.post2209072238)\n",
      "Requirement already satisfied: pandas>=1.1.4 in c:\\users\\admin\\anaconda3\\lib\\site-packages (from ultralytics==8.1.34) (2.1.4)\n",
      "Requirement already satisfied: seaborn>=0.11.0 in c:\\users\\admin\\anaconda3\\lib\\site-packages (from ultralytics==8.1.34) (0.12.2)\n",
      "Requirement already satisfied: contourpy>=1.0.1 in c:\\users\\admin\\anaconda3\\lib\\site-packages (from matplotlib>=3.3.0->ultralytics==8.1.34) (1.2.0)\n",
      "Requirement already satisfied: cycler>=0.10 in c:\\users\\admin\\anaconda3\\lib\\site-packages (from matplotlib>=3.3.0->ultralytics==8.1.34) (0.11.0)\n",
      "Requirement already satisfied: fonttools>=4.22.0 in c:\\users\\admin\\anaconda3\\lib\\site-packages (from matplotlib>=3.3.0->ultralytics==8.1.34) (4.25.0)\n",
      "Requirement already satisfied: kiwisolver>=1.0.1 in c:\\users\\admin\\anaconda3\\lib\\site-packages (from matplotlib>=3.3.0->ultralytics==8.1.34) (1.4.4)\n",
      "Requirement already satisfied: numpy<2,>=1.21 in c:\\users\\admin\\anaconda3\\lib\\site-packages (from matplotlib>=3.3.0->ultralytics==8.1.34) (1.26.4)\n",
      "Requirement already satisfied: packaging>=20.0 in c:\\users\\admin\\anaconda3\\lib\\site-packages (from matplotlib>=3.3.0->ultralytics==8.1.34) (23.1)\n",
      "Requirement already satisfied: pyparsing>=2.3.1 in c:\\users\\admin\\anaconda3\\lib\\site-packages (from matplotlib>=3.3.0->ultralytics==8.1.34) (3.0.9)\n",
      "Requirement already satisfied: python-dateutil>=2.7 in c:\\users\\admin\\anaconda3\\lib\\site-packages (from matplotlib>=3.3.0->ultralytics==8.1.34) (2.8.2)\n",
      "Requirement already satisfied: pytz>=2020.1 in c:\\users\\admin\\anaconda3\\lib\\site-packages (from pandas>=1.1.4->ultralytics==8.1.34) (2023.3.post1)\n",
      "Requirement already satisfied: tzdata>=2022.1 in c:\\users\\admin\\anaconda3\\lib\\site-packages (from pandas>=1.1.4->ultralytics==8.1.34) (2023.3)\n",
      "Requirement already satisfied: charset-normalizer<4,>=2 in c:\\users\\admin\\anaconda3\\lib\\site-packages (from requests>=2.23.0->ultralytics==8.1.34) (2.0.4)\n",
      "Requirement already satisfied: idna<4,>=2.5 in c:\\users\\admin\\anaconda3\\lib\\site-packages (from requests>=2.23.0->ultralytics==8.1.34) (3.4)\n",
      "Requirement already satisfied: urllib3<3,>=1.21.1 in c:\\users\\admin\\anaconda3\\lib\\site-packages (from requests>=2.23.0->ultralytics==8.1.34) (2.0.7)\n",
      "Requirement already satisfied: certifi>=2017.4.17 in c:\\users\\admin\\anaconda3\\lib\\site-packages (from requests>=2.23.0->ultralytics==8.1.34) (2024.2.2)\n",
      "Requirement already satisfied: filelock in c:\\users\\admin\\anaconda3\\lib\\site-packages (from torch>=1.8.0->ultralytics==8.1.34) (3.13.1)\n",
      "Requirement already satisfied: typing-extensions in c:\\users\\admin\\anaconda3\\lib\\site-packages (from torch>=1.8.0->ultralytics==8.1.34) (4.9.0)\n",
      "Requirement already satisfied: sympy in c:\\users\\admin\\anaconda3\\lib\\site-packages (from torch>=1.8.0->ultralytics==8.1.34) (1.12)\n",
      "Requirement already satisfied: networkx in c:\\users\\admin\\anaconda3\\lib\\site-packages (from torch>=1.8.0->ultralytics==8.1.34) (3.1)\n",
      "Requirement already satisfied: jinja2 in c:\\users\\admin\\anaconda3\\lib\\site-packages (from torch>=1.8.0->ultralytics==8.1.34) (3.1.3)\n",
      "Requirement already satisfied: colorama in c:\\users\\admin\\anaconda3\\lib\\site-packages (from tqdm>=4.64.0->ultralytics==8.1.34) (0.4.6)\n",
      "Requirement already satisfied: six>=1.5 in c:\\users\\admin\\anaconda3\\lib\\site-packages (from python-dateutil>=2.7->matplotlib>=3.3.0->ultralytics==8.1.34) (1.16.0)\n",
      "Requirement already satisfied: MarkupSafe>=2.0 in c:\\users\\admin\\anaconda3\\lib\\site-packages (from jinja2->torch>=1.8.0->ultralytics==8.1.34) (2.1.3)\n",
      "Requirement already satisfied: mpmath>=0.19 in c:\\users\\admin\\anaconda3\\lib\\site-packages (from sympy->torch>=1.8.0->ultralytics==8.1.34) (1.3.0)\n",
      "Building wheels for collected packages: ultralytics\n",
      "  Building editable for ultralytics (pyproject.toml): started\n",
      "  Building editable for ultralytics (pyproject.toml): finished with status 'done'\n",
      "  Created wheel for ultralytics: filename=ultralytics-8.1.34-0.editable-py3-none-any.whl size=20813 sha256=38cb520b47e7af90eb35e3de04e8f13be8598a55644b9ca815536a2730c3a722\n",
      "  Stored in directory: C:\\Users\\ADMIN\\AppData\\Local\\Temp\\pip-ephem-wheel-cache-ripjjjit\\wheels\\5e\\44\\1a\\8c092c9d9f4fa274c79a36967d99de3732e87e6f101160e0ec\n",
      "Successfully built ultralytics\n",
      "Installing collected packages: ultralytics\n",
      "  Attempting uninstall: ultralytics\n",
      "    Found existing installation: ultralytics 8.2.48\n",
      "    Uninstalling ultralytics-8.2.48:\n",
      "      Successfully uninstalled ultralytics-8.2.48\n",
      "Successfully installed ultralytics-8.1.34\n",
      "Note: you may need to restart the kernel to use updated packages.\n"
     ]
    }
   ],
   "source": [
    "%pip install -q -r requirements.txt\n",
    "%pip install -e ."
   ]
  },
  {
   "cell_type": "code",
   "execution_count": 31,
   "metadata": {},
   "outputs": [
    {
     "name": "stderr",
     "output_type": "stream",
     "text": [
      "'wget' is not recognized as an internal or external command,\n",
      "operable program or batch file.\n"
     ]
    }
   ],
   "source": [
    "!wget https://github.com/THU-MIG/yolov10/releases/download/v1.1/yolov10n.pt"
   ]
  },
  {
   "cell_type": "code",
   "execution_count": 36,
   "metadata": {},
   "outputs": [
    {
     "ename": "AttributeError",
     "evalue": "partially initialized module 'torch' has no attribute '_running_with_deploy' (most likely due to a circular import)",
     "output_type": "error",
     "traceback": [
      "\u001b[1;31m---------------------------------------------------------------------------\u001b[0m",
      "\u001b[1;31mAttributeError\u001b[0m                            Traceback (most recent call last)",
      "Cell \u001b[1;32mIn[36], line 1\u001b[0m\n\u001b[1;32m----> 1\u001b[0m \u001b[38;5;28;01mfrom\u001b[39;00m \u001b[38;5;21;01multralytics\u001b[39;00m \u001b[38;5;28;01mimport\u001b[39;00m YOLOv10\n\u001b[0;32m      3\u001b[0m MODEL_PATH \u001b[38;5;241m=\u001b[39m \u001b[38;5;124m'\u001b[39m\u001b[38;5;124myolov10n.pt\u001b[39m\u001b[38;5;124m'\u001b[39m\n\u001b[0;32m      4\u001b[0m model \u001b[38;5;241m=\u001b[39m YOLOv10(MODEL_PATH)\n",
      "File \u001b[1;32mc:\\Users\\ADMIN\\Desktop\\AIO2024\\homework1\\Module1_Image Project\\yolov10\\ultralytics\\__init__.py:5\u001b[0m\n\u001b[0;32m      1\u001b[0m \u001b[38;5;66;03m# Ultralytics YOLO 🚀, AGPL-3.0 license\u001b[39;00m\n\u001b[0;32m      3\u001b[0m __version__ \u001b[38;5;241m=\u001b[39m \u001b[38;5;124m\"\u001b[39m\u001b[38;5;124m8.1.34\u001b[39m\u001b[38;5;124m\"\u001b[39m\n\u001b[1;32m----> 5\u001b[0m \u001b[38;5;28;01mfrom\u001b[39;00m \u001b[38;5;21;01multralytics\u001b[39;00m\u001b[38;5;21;01m.\u001b[39;00m\u001b[38;5;21;01mdata\u001b[39;00m\u001b[38;5;21;01m.\u001b[39;00m\u001b[38;5;21;01mexplorer\u001b[39;00m\u001b[38;5;21;01m.\u001b[39;00m\u001b[38;5;21;01mexplorer\u001b[39;00m \u001b[38;5;28;01mimport\u001b[39;00m Explorer\n\u001b[0;32m      6\u001b[0m \u001b[38;5;28;01mfrom\u001b[39;00m \u001b[38;5;21;01multralytics\u001b[39;00m\u001b[38;5;21;01m.\u001b[39;00m\u001b[38;5;21;01mmodels\u001b[39;00m \u001b[38;5;28;01mimport\u001b[39;00m RTDETR, SAM, YOLO, YOLOWorld, YOLOv10\n\u001b[0;32m      7\u001b[0m \u001b[38;5;28;01mfrom\u001b[39;00m \u001b[38;5;21;01multralytics\u001b[39;00m\u001b[38;5;21;01m.\u001b[39;00m\u001b[38;5;21;01mmodels\u001b[39;00m\u001b[38;5;21;01m.\u001b[39;00m\u001b[38;5;21;01mfastsam\u001b[39;00m \u001b[38;5;28;01mimport\u001b[39;00m FastSAM\n",
      "File \u001b[1;32mc:\\Users\\ADMIN\\Desktop\\AIO2024\\homework1\\Module1_Image Project\\yolov10\\ultralytics\\data\\__init__.py:3\u001b[0m\n\u001b[0;32m      1\u001b[0m \u001b[38;5;66;03m# Ultralytics YOLO 🚀, AGPL-3.0 license\u001b[39;00m\n\u001b[1;32m----> 3\u001b[0m \u001b[38;5;28;01mfrom\u001b[39;00m \u001b[38;5;21;01m.\u001b[39;00m\u001b[38;5;21;01mbase\u001b[39;00m \u001b[38;5;28;01mimport\u001b[39;00m BaseDataset\n\u001b[0;32m      4\u001b[0m \u001b[38;5;28;01mfrom\u001b[39;00m \u001b[38;5;21;01m.\u001b[39;00m\u001b[38;5;21;01mbuild\u001b[39;00m \u001b[38;5;28;01mimport\u001b[39;00m build_dataloader, build_yolo_dataset, load_inference_source\n\u001b[0;32m      5\u001b[0m \u001b[38;5;28;01mfrom\u001b[39;00m \u001b[38;5;21;01m.\u001b[39;00m\u001b[38;5;21;01mdataset\u001b[39;00m \u001b[38;5;28;01mimport\u001b[39;00m ClassificationDataset, SemanticDataset, YOLODataset\n",
      "File \u001b[1;32mc:\\Users\\ADMIN\\Desktop\\AIO2024\\homework1\\Module1_Image Project\\yolov10\\ultralytics\\data\\base.py:15\u001b[0m\n\u001b[0;32m     13\u001b[0m \u001b[38;5;28;01mimport\u001b[39;00m \u001b[38;5;21;01mnumpy\u001b[39;00m \u001b[38;5;28;01mas\u001b[39;00m \u001b[38;5;21;01mnp\u001b[39;00m\n\u001b[0;32m     14\u001b[0m \u001b[38;5;28;01mimport\u001b[39;00m \u001b[38;5;21;01mpsutil\u001b[39;00m\n\u001b[1;32m---> 15\u001b[0m \u001b[38;5;28;01mfrom\u001b[39;00m \u001b[38;5;21;01mtorch\u001b[39;00m\u001b[38;5;21;01m.\u001b[39;00m\u001b[38;5;21;01mutils\u001b[39;00m\u001b[38;5;21;01m.\u001b[39;00m\u001b[38;5;21;01mdata\u001b[39;00m \u001b[38;5;28;01mimport\u001b[39;00m Dataset\n\u001b[0;32m     17\u001b[0m \u001b[38;5;28;01mfrom\u001b[39;00m \u001b[38;5;21;01multralytics\u001b[39;00m\u001b[38;5;21;01m.\u001b[39;00m\u001b[38;5;21;01mutils\u001b[39;00m \u001b[38;5;28;01mimport\u001b[39;00m DEFAULT_CFG, LOCAL_RANK, LOGGER, NUM_THREADS, TQDM\n\u001b[0;32m     18\u001b[0m \u001b[38;5;28;01mfrom\u001b[39;00m \u001b[38;5;21;01m.\u001b[39;00m\u001b[38;5;21;01mutils\u001b[39;00m \u001b[38;5;28;01mimport\u001b[39;00m HELP_URL, IMG_FORMATS\n",
      "File \u001b[1;32mc:\\Users\\ADMIN\\anaconda3\\Lib\\site-packages\\torch\\__init__.py:23\u001b[0m\n\u001b[0;32m     20\u001b[0m     \u001b[38;5;28;01mraise\u001b[39;00m \u001b[38;5;167;01mException\u001b[39;00m(\u001b[38;5;124m\"\u001b[39m\u001b[38;5;124mPython 2 has reached end-of-life and is no longer supported by PyTorch.\u001b[39m\u001b[38;5;124m\"\u001b[39m)\n\u001b[0;32m     22\u001b[0m \u001b[38;5;28;01mfrom\u001b[39;00m \u001b[38;5;21;01m.\u001b[39;00m\u001b[38;5;21;01m_utils\u001b[39;00m \u001b[38;5;28;01mimport\u001b[39;00m _import_dotted_name, classproperty\n\u001b[1;32m---> 23\u001b[0m \u001b[38;5;28;01mfrom\u001b[39;00m \u001b[38;5;21;01m.\u001b[39;00m\u001b[38;5;21;01m_utils_internal\u001b[39;00m \u001b[38;5;28;01mimport\u001b[39;00m get_file_path, prepare_multiprocessing_environment, \\\n\u001b[0;32m     24\u001b[0m     USE_RTLD_GLOBAL_WITH_LIBTORCH, USE_GLOBAL_DEPS\n\u001b[0;32m     25\u001b[0m \u001b[38;5;66;03m# TODO(torch_deploy) figure out how to freeze version.py in fbcode build\u001b[39;00m\n\u001b[0;32m     26\u001b[0m \u001b[38;5;28;01mif\u001b[39;00m sys\u001b[38;5;241m.\u001b[39mexecutable \u001b[38;5;241m==\u001b[39m \u001b[38;5;124m'\u001b[39m\u001b[38;5;124mtorch_deploy\u001b[39m\u001b[38;5;124m'\u001b[39m:\n",
      "File \u001b[1;32mc:\\Users\\ADMIN\\anaconda3\\Lib\\site-packages\\torch\\_utils_internal.py:18\u001b[0m\n\u001b[0;32m     10\u001b[0m log \u001b[38;5;241m=\u001b[39m logging\u001b[38;5;241m.\u001b[39mgetLogger(\u001b[38;5;18m__name__\u001b[39m)\n\u001b[0;32m     13\u001b[0m \u001b[38;5;66;03m# this arbitrary-looking assortment of functionality is provided here\u001b[39;00m\n\u001b[0;32m     14\u001b[0m \u001b[38;5;66;03m# to have a central place for overrideable behavior. The motivating\u001b[39;00m\n\u001b[0;32m     15\u001b[0m \u001b[38;5;66;03m# use is the FB build environment, where this source file is replaced\u001b[39;00m\n\u001b[0;32m     16\u001b[0m \u001b[38;5;66;03m# by an equivalent.\u001b[39;00m\n\u001b[1;32m---> 18\u001b[0m \u001b[38;5;28;01mif\u001b[39;00m torch\u001b[38;5;241m.\u001b[39m_running_with_deploy():\n\u001b[0;32m     19\u001b[0m     \u001b[38;5;66;03m# __file__ is meaningless in the context of frozen torch used in torch deploy.\u001b[39;00m\n\u001b[0;32m     20\u001b[0m     \u001b[38;5;66;03m# setting empty torch_parent should allow below functions to operate without crashing,\u001b[39;00m\n\u001b[0;32m     21\u001b[0m     \u001b[38;5;66;03m# but it's unclear if there is a valid use case for them in the context of deploy.\u001b[39;00m\n\u001b[0;32m     22\u001b[0m     torch_parent \u001b[38;5;241m=\u001b[39m \u001b[38;5;124m\"\u001b[39m\u001b[38;5;124m\"\u001b[39m\n\u001b[0;32m     23\u001b[0m \u001b[38;5;28;01melse\u001b[39;00m:\n",
      "\u001b[1;31mAttributeError\u001b[0m: partially initialized module 'torch' has no attribute '_running_with_deploy' (most likely due to a circular import)"
     ]
    }
   ],
   "source": [
    "from ultralytics import YOLOv10\n",
    "\n",
    "MODEL_PATH = 'yolov10n.pt'\n",
    "model = YOLOv10(MODEL_PATH)"
   ]
  },
  {
   "cell_type": "code",
   "execution_count": 19,
   "metadata": {},
   "outputs": [
    {
     "ename": "NameError",
     "evalue": "name 'model' is not defined",
     "output_type": "error",
     "traceback": [
      "\u001b[1;31m---------------------------------------------------------------------------\u001b[0m",
      "\u001b[1;31mNameError\u001b[0m                                 Traceback (most recent call last)",
      "Cell \u001b[1;32mIn[19], line 6\u001b[0m\n\u001b[0;32m      3\u001b[0m IMG_SIZE \u001b[38;5;241m=\u001b[39m \u001b[38;5;241m640\u001b[39m\n\u001b[0;32m      4\u001b[0m BATCH_SIZE \u001b[38;5;241m=\u001b[39m \u001b[38;5;241m256\u001b[39m\n\u001b[1;32m----> 6\u001b[0m model\u001b[38;5;241m.\u001b[39mtrain(data\u001b[38;5;241m=\u001b[39mYAML_PATH,\n\u001b[0;32m      7\u001b[0m             epochs\u001b[38;5;241m=\u001b[39mEPOCHS,\n\u001b[0;32m      8\u001b[0m             batch\u001b[38;5;241m=\u001b[39mBATCH_SIZE,\n\u001b[0;32m      9\u001b[0m             imgsz\u001b[38;5;241m=\u001b[39mIMG_SIZE)\n",
      "\u001b[1;31mNameError\u001b[0m: name 'model' is not defined"
     ]
    }
   ],
   "source": [
    "YAML_PATH = '../safety_helmet_dataset/data.yaml'\n",
    "EPOCHS = 50\n",
    "IMG_SIZE = 640\n",
    "BATCH_SIZE = 256\n",
    "\n",
    "model.train(data=YAML_PATH,\n",
    "            epochs=EPOCHS,\n",
    "            batch=BATCH_SIZE,\n",
    "            imgsz=IMG_SIZE)"
   ]
  },
  {
   "cell_type": "code",
   "execution_count": null,
   "metadata": {},
   "outputs": [],
   "source": [
    "TRAINED_MODEL_PATH = 'runs/detect/train/weights/best.pt'\n",
    "model = YOLOv10(TRAINED_MODEL_PATH)\n",
    "\n",
    "model.val(data=YAML_PATH,\n",
    "          imgsz=IMG_SIZE,\n",
    "          split='test')"
   ]
  },
  {
   "cell_type": "code",
   "execution_count": null,
   "metadata": {},
   "outputs": [],
   "source": []
  },
  {
   "cell_type": "code",
   "execution_count": null,
   "metadata": {},
   "outputs": [],
   "source": []
  }
 ],
 "metadata": {
  "kernelspec": {
   "display_name": "base",
   "language": "python",
   "name": "python3"
  },
  "language_info": {
   "codemirror_mode": {
    "name": "ipython",
    "version": 3
   },
   "file_extension": ".py",
   "mimetype": "text/x-python",
   "name": "python",
   "nbconvert_exporter": "python",
   "pygments_lexer": "ipython3",
   "version": "3.11.7"
  }
 },
 "nbformat": 4,
 "nbformat_minor": 2
}
