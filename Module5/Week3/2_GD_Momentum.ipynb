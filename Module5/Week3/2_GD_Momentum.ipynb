{
 "cells": [
  {
   "cell_type": "markdown",
   "metadata": {},
   "source": [
    "$2a)\\;\\;f(w_1,\\;w_2)\\;=\\;0.1w_1^2\\;+\\;2w_2^2$\n",
    "\n",
    "$Bắt\\;đầu\\;với\\;epoch\\;=\\;1$\n",
    "\n",
    "$•\\;STEP1:\\;Tìm\\;giá\\;trị\\;dw_1\\;và\\;dw_2\\;giá\\;trị\\;đạo\\;hàm\\;của\\;hàm\\;theo\\;w_1\\;và\\;w_2\\;(partial\\;derivative)\\;tại\\;điểm\\;khởi\\;tạo\\;[w_1,\\;w_2]$\n",
    "\n",
    "$•\\;STEP2:\\;Tìm\\;giá\\;trị\\;v_1\\;và\\;v_2\\;dựa\\;vào\\;dw_1\\;và\\;dw_2\\;tìm\\;được\\;ở\\;step\\;1\\;(công\\;thức\\;:\\;V_t\\;=\\;βV_{t−1}\\;+\\;(1\\;−\\;β)dW_t\\;).$\n",
    "\n",
    "$•\\;STEP3:\\;Dùng\\;công\\;thức\\;(W_t\\;=\\;W_t\\;−\\;α\\;∗\\;V_t)\\;Gradient\\;Descent\\;+\\;Momentum\\;để\\;cập\\;nhật\\;w_1\\;và\\;w_2.\\;Hoàn\\;thành\\;epoch\\;=\\;1$\n",
    "\n",
    "$•\\;STEP4:\\;epoch\\;=\\;2\\;ta\\;thực\\;hiện\\;tương\\;tự\\;với\\;STEP1,\\;STEP2\\;và\\;STEP3\\;như\\;trên\\;với\\;w_1\\;và\\;w_2\\;đã\\;được\\;cập\\;nhật\\;từ\\;epoch\\;=\\;1$\n"
   ]
  },
  {
   "cell_type": "code",
   "execution_count": 28,
   "metadata": {},
   "outputs": [],
   "source": [
    "import numpy as np"
   ]
  },
  {
   "cell_type": "code",
   "execution_count": 29,
   "metadata": {},
   "outputs": [],
   "source": [
    "def df_w(W):\n",
    "\n",
    "    w1, w2 = W\n",
    "    \n",
    "    # Tính gradient\n",
    "    dw1 = 0.2 * w1  # Đạo hàm riêng theo w1\n",
    "    dw2 = 4 * w2    # Đạo hàm riêng theo w2\n",
    "    \n",
    "    # Tạo vector gradient\n",
    "    dW = np.array([dw1, dw2])\n",
    "\n",
    "    return dW"
   ]
  },
  {
   "cell_type": "code",
   "execution_count": 30,
   "metadata": {},
   "outputs": [],
   "source": [
    "def sgd_momentum(W, dW, lr, V, beta):\n",
    "    # Cập nhật momentum\n",
    "    V = beta * V + (1 - beta) * dW  # Cập nhật v1 và v2\n",
    "\n",
    "    # Cập nhật tham số\n",
    "    W = W - lr * V  # Cập nhật w1 và w2\n",
    "\n",
    "    return W, V"
   ]
  },
  {
   "cell_type": "code",
   "execution_count": 31,
   "metadata": {},
   "outputs": [],
   "source": [
    "def train_p1(optimizer, lr, epochs):\n",
    "\n",
    "    # Khởi tạo giá trị ban đầu\n",
    "    W = np.array([-5, -2], dtype=np.float32)  # [w1, w2]\n",
    "    V = np.array([0, 0], dtype=np.float32)   # [v1, v2] (momentum ban đầu)\n",
    "    results = [W]                     # Lưu lại W ban đầu\n",
    "\n",
    "    # Vòng lặp theo số epoch\n",
    "    for epoch in range(epochs):\n",
    "        dW = df_w(W) \n",
    "\n",
    "        # Cập nhật W và V bằng thuật toán optimizer\n",
    "        W, V = optimizer(W, dW, lr, V, beta=0.5)\n",
    "\n",
    "        # Lưu giá trị [w1, w2] sau mỗi epoch\n",
    "        results.append(W)\n",
    "\n",
    "    return results"
   ]
  },
  {
   "cell_type": "code",
   "execution_count": 32,
   "metadata": {},
   "outputs": [
    {
     "data": {
      "text/plain": [
       "[array([-5., -2.], dtype=float32),\n",
       " array([-4.7,  0.4]),\n",
       " array([-4.268,  1.12 ]),\n",
       " array([-3.79592,  0.136  ]),\n",
       " array([-3.3321248, -0.5192   ]),\n",
       " array([-2.90029971, -0.22376   ]),\n",
       " array([-2.51036919,  0.192472  ]),\n",
       " array([-2.16478177,  0.1696216 ]),\n",
       " array([-1.86210116, -0.04534952]),\n",
       " array([-1.59903478, -0.09841566]),\n",
       " array([-1.37155951, -0.00684994]),\n",
       " array([-1.1755283 ,  0.04715285]),\n",
       " array([-1.006981  ,  0.01757082]),\n",
       " array([-0.86228849, -0.01830518]),\n",
       " array([-0.73820492, -0.01427696]),\n",
       " array([-0.63187084,  0.0048695 ]),\n",
       " array([-0.54079155,  0.00859933]),\n",
       " array([-4.62804416e-01,  1.45050014e-04]),\n",
       " array([-0.39604258, -0.00425615]),\n",
       " array([-0.33889911, -0.00134937]),\n",
       " array([-0.28999343,  0.00172326]),\n",
       " array([-0.24814098,  0.00119166]),\n",
       " array([-0.2123263 , -0.00050413]),\n",
       " array([-0.18167938, -0.00074707]),\n",
       " array([-1.55455157e-01,  2.79448010e-05]),\n",
       " array([-0.13301574,  0.00038192]),\n",
       " array([-1.13815082e-01,  1.00603444e-04]),\n",
       " array([-0.09738585, -0.00016078]),\n",
       " array([-8.33280829e-02, -9.85353344e-05]),\n",
       " array([-7.12995144e-02,  5.08287536e-05]),\n",
       " array([-6.10072592e-02,  6.45162933e-05])]"
      ]
     },
     "execution_count": 32,
     "metadata": {},
     "output_type": "execute_result"
    }
   ],
   "source": [
    "train_p1(sgd_momentum, lr=0.6, epochs=30)"
   ]
  },
  {
   "cell_type": "markdown",
   "metadata": {},
   "source": []
  }
 ],
 "metadata": {
  "kernelspec": {
   "display_name": "base",
   "language": "python",
   "name": "python3"
  },
  "language_info": {
   "codemirror_mode": {
    "name": "ipython",
    "version": 3
   },
   "file_extension": ".py",
   "mimetype": "text/x-python",
   "name": "python",
   "nbconvert_exporter": "python",
   "pygments_lexer": "ipython3",
   "version": "3.11.7"
  }
 },
 "nbformat": 4,
 "nbformat_minor": 2
}
