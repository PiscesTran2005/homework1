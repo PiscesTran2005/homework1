{
 "cells": [
  {
   "cell_type": "markdown",
   "metadata": {},
   "source": [
    "$3a)\\;\\;f(w_1,\\;w_2)\\;=\\;0.1w_1^2\\;+\\;2w_2^2$\n",
    "\n",
    "$•\\;Bắt\\;đầu\\;với\\;epoch\\;=\\;1$\n",
    "\n",
    "$•\\;STEP1:\\;Tìm\\;giá\\;trị\\;dw_1\\;và\\;dw_2\\;giá\\;trị\\;đạo\\;hàm\\;của\\;hàm\\;(S_t\\;=\\;γS_{t−1}\\;+\\;(1\\;−\\;γ)dW_t^2)$\n",
    "$theo\\;w_1\\;và\\;w_2\\;(partial\\;derivative)\\;tại\\;điểm\\;khởi\\;tạo\\;[w_1,\\;w_2]$\n",
    "\n",
    "$•\\;STEP2:\\;Tìm\\;giá\\;trị\\;s_1\\;và\\;s_2\\;dựa\\;vào\\;dw_1\\;và\\;dw_2\\;vừa\\;tìm\\;được\\;ở\\;STEP1.$\n",
    "\n",
    "$•\\;STEP3:\\;Dùng\\;công\\;thức\\;(W_t\\;=\\;W_t\\;−\\;α\\;∗\\; \\frac{dW}{\\sqrt{St\\;+\\;ε}})\\;để\\;cập\\;nhật\\;w_1\\;và\\;w_2.\\;Hoàn\\;thành\\;epoch\\;=\\;1$\n",
    "\n",
    "$•\\;STEP4:\\;epoch\\;=\\;2\\;ta\\;thực\\;hiện\\;tương\\;tự\\;với\\;STEP1,\\;STEP2\\;và\\;STEP3\\;như\\;trên\\;với\\;w_1\\;và\\;w_2\\;đã\\;được\\;cập\\;nhật\\;từ\\;epoch\\;=\\;1$"
   ]
  },
  {
   "cell_type": "code",
   "execution_count": 53,
   "metadata": {},
   "outputs": [],
   "source": [
    "import numpy as np"
   ]
  },
  {
   "cell_type": "code",
   "execution_count": 54,
   "metadata": {},
   "outputs": [],
   "source": [
    "def df_w(W):\n",
    "\n",
    "    w1, w2 = W\n",
    "    \n",
    "    # Tính gradient\n",
    "    dw1 = 0.2 * w1  # Đạo hàm riêng theo w1\n",
    "    dw2 = 4 * w2    # Đạo hàm riêng theo w2\n",
    "    \n",
    "    # Tạo vector gradient\n",
    "    dW = np.array([dw1, dw2])\n",
    "\n",
    "    return dW"
   ]
  },
  {
   "cell_type": "code",
   "execution_count": 55,
   "metadata": {},
   "outputs": [],
   "source": [
    "def RMSProp(W, dW, lr, S, gamma):\n",
    "    epsilon = 1e-6\n",
    "    S = gamma * S + (1 - gamma) * dW**2\n",
    "    W = W - lr * dW / np.sqrt(S + epsilon)\n",
    "    return W, S\n"
   ]
  },
  {
   "cell_type": "code",
   "execution_count": 56,
   "metadata": {},
   "outputs": [],
   "source": [
    "def train_p1(optimizer, lr, epochs):\n",
    "    \"\"\"\n",
    "    Thực hiện tìm điểm minimum của function (1) dựa vào thuật toán\n",
    "    được truyền vào từ optimizer\n",
    "    Arguments:\n",
    "    optimize : function thực hiện thuật toán optimization cụ thể\n",
    "    lr -- float: learning rate\n",
    "    epochs -- int: số lượng lần (epoch) lặp để tìm điểm minimum\n",
    "    Returns:\n",
    "    results -- list: list các cặp điểm [w1, w2] sau mỗi epoch (mỗi lần cập nhật)\n",
    "    \"\"\"\n",
    "    # initial\n",
    "    W = np.array([-5, -2], dtype=np.float32)\n",
    "    S = np.array([0, 0], dtype=np.float32)\n",
    "    results = [W]\n",
    "    \n",
    "    \n",
    "    for epoch in range(epochs):\n",
    "        # Tính gradient\n",
    "        dW = df_w(W) \n",
    "\n",
    "        # Cập nhật W và S bằng thuật toán optimizer\n",
    "        W, S = optimizer(W, dW, S, lr, gamma=0.9)\n",
    "\n",
    "        # Lưu giá trị [w1, w2] sau mỗi epoch\n",
    "        results.append(W)\n",
    "\n",
    "    return results"
   ]
  },
  {
   "cell_type": "code",
   "execution_count": 58,
   "metadata": {},
   "outputs": [
    {
     "name": "stderr",
     "output_type": "stream",
     "text": [
      "C:\\Users\\ADMIN\\AppData\\Local\\Temp\\ipykernel_9536\\1084144679.py:4: RuntimeWarning: overflow encountered in multiply\n",
      "  W = W - lr * dW / np.sqrt(S + epsilon)\n",
      "C:\\Users\\ADMIN\\AppData\\Local\\Temp\\ipykernel_9536\\1084144679.py:4: RuntimeWarning: invalid value encountered in divide\n",
      "  W = W - lr * dW / np.sqrt(S + epsilon)\n"
     ]
    },
    {
     "data": {
      "text/plain": [
       "[array([-5., -2.], dtype=float32),\n",
       " array([-5., -2.]),\n",
       " array([-4.39172457, 18.66107296]),\n",
       " array([-3.84014491, -2.42621033]),\n",
       " array([  -3.37530483, 1735.63919542]),\n",
       " array([  -2.97996325, 1705.00180272]),\n",
       " array([-2.63969880e+00, -1.52401874e+07]),\n",
       " array([-2.34416344e+00, -5.31643139e+05]),\n",
       " array([-2.08571732e+00,  1.17516974e+15]),\n",
       " array([-1.85852463e+00,  1.17373966e+15]),\n",
       " array([-1.65800040e+00, -6.98748971e+30]),\n",
       " array([-1.48045826e+00, -1.69959975e+28]),\n",
       " array([-1.32287699e+00,  2.47037194e+62]),\n",
       " array([-1.18274084e+00,  2.47035732e+62]),\n",
       " array([-1.05792706e+000, -3.08776808e+125]),\n",
       " array([-9.46624741e-001, -3.65362809e+120]),\n",
       " array([-0.84727492,         inf]),\n",
       " array([-0.75852545,         nan]),\n",
       " array([-0.67919634,         nan]),\n",
       " array([-0.60825268,         nan]),\n",
       " array([-0.54478302,         nan]),\n",
       " array([-0.48798204,         nan]),\n",
       " array([-0.43713618,         nan]),\n",
       " array([-0.39161187,         nan]),\n",
       " array([-0.35084552,         nan]),\n",
       " array([-0.31433509,         nan]),\n",
       " array([-0.28163284,         nan]),\n",
       " array([-0.25233912,         nan]),\n",
       " array([-0.22609688,         nan]),\n",
       " array([-0.20258698,         nan]),\n",
       " array([-0.18152402,         nan])]"
      ]
     },
     "execution_count": 58,
     "metadata": {},
     "output_type": "execute_result"
    }
   ],
   "source": [
    "train_p1(RMSProp, lr=0.3, epochs=30)"
   ]
  }
 ],
 "metadata": {
  "kernelspec": {
   "display_name": "base",
   "language": "python",
   "name": "python3"
  },
  "language_info": {
   "codemirror_mode": {
    "name": "ipython",
    "version": 3
   },
   "file_extension": ".py",
   "mimetype": "text/x-python",
   "name": "python",
   "nbconvert_exporter": "python",
   "pygments_lexer": "ipython3",
   "version": "3.11.7"
  }
 },
 "nbformat": 4,
 "nbformat_minor": 2
}
