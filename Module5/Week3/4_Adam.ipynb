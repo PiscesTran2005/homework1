{
 "cells": [
  {
   "cell_type": "markdown",
   "metadata": {},
   "source": [
    "$4a)\\;\\;f(w_1,\\;w_2)\\;=\\;0.1w_1^2\\;+\\;2w_2^2$\n",
    "\n",
    "$•\\;Bắt\\;đầu\\;với\\;epoch\\;=\\;1$\n",
    "\n",
    "$•\\;STEP1:\\;Tìm\\;giá\\;trị\\;dw_1\\;và\\;dw_2\\;giá\\;trị\\;đạo\\;hàm\\;của\\;hàm\\;(1)\\;theo\\;w_1\\;và\\;w_2\\;(partial\\;derivative)\\;tại\\;điểm\\;khởi\\;tạo\\;[w_1,\\;w_2]$\n",
    "\n",
    "$•\\;STEP2:\\;Tìm\\;giá\\;trị\\;v_1\\;và\\;v_2\\;dựa\\;vào\\;dw1\\;và\\;dw2\\;vừa\\;tìm\\;được\\;ở\\;step\\;1\\;(V_t\\;=\\;β_1V_{t−1}\\;+\\;(1\\;−\\;β_1)dW_t).$\n",
    "\n",
    "$•\\;STEP3:\\;Tìm\\;giá\\;trị\\;s_1\\;và\\;s_2\\;dựa\\;vào\\;dw1\\;và\\;dw2\\;vừa\\;tìm\\;được\\;ở\\;step\\;1\\;(S_t\\;=\\;β_2S_{t−1}\\;+\\;(1\\;−\\;β_2)dW_t^2).$\n",
    "\n",
    "$•\\;STEP4:\\;Thực\\;hiện\\;bias-correction\\;cho\\;V\\;và\\;S\\;để\\;thu\\;được\\;V_coor\\;và\\;S_coor.\\;Sau\\;khiáp\\;dụng\\;bias\\;correction\\;$\n",
    "\n",
    "$(V_{coor}\\;=\\;\\frac{V_t}{1-β_1^t})\\;và\\;(S_{coor}\\;=\\;\\frac{S_t}{1-β_2^t})\\;ta\\;sẽ\\;thu\\;được\\;v_{coor1},\\;v_{coor2},\\;s_{coor1}\\;và\\;s_{coor2}$\n",
    "\n",
    "$•\\;STEP5:\\;Dùng\\;công\\;thức\\;(W_t\\;=\\;W_t\\;−\\;α\\;∗\\;\\;\\frac{dW}{\\sqrt{St\\;}+\\;ε})\\;để\\;cập\\;nhật\\;w_1\\;và\\;w_2.\\;Hoàn\\;thành\\;epoch\\;=\\;1$\n",
    "\n",
    "$•\\;STEP6:\\;epoch\\;=\\;2\\;ta\\;thực\\;hiện\\;tương\\;tự\\;với\\;STEP1\\;-\\;STEP5\\;như\\;trên\\;với\\;w1\\;và\\;w_2\\;đã\\;được\\;cập\\;nhật\\;từ\\;epoch\\;=\\;1$"
   ]
  },
  {
   "cell_type": "code",
   "execution_count": 1,
   "metadata": {},
   "outputs": [],
   "source": [
    "import numpy as np"
   ]
  },
  {
   "cell_type": "code",
   "execution_count": 2,
   "metadata": {},
   "outputs": [],
   "source": [
    "def df_w(W):\n",
    "\n",
    "    w1, w2 = W\n",
    "    \n",
    "    # Tính gradient\n",
    "    dw1 = 0.2 * w1  # Đạo hàm riêng theo w1\n",
    "    dw2 = 4 * w2    # Đạo hàm riêng theo w2\n",
    "    \n",
    "    # Tạo vector gradient\n",
    "    dW = np.array([dw1, dw2])\n",
    "\n",
    "    return dW"
   ]
  },
  {
   "cell_type": "code",
   "execution_count": 3,
   "metadata": {},
   "outputs": [],
   "source": [
    "import numpy as np\n",
    "\n",
    "def Adam(W, dW, lr, V, S, beta1, beta2, t):\n",
    "    \n",
    "    epsilon = 1e-6  # Giá trị nhỏ để tránh chia cho 0\n",
    "\n",
    "    # Cập nhật V (momentum vector)\n",
    "    V = beta1 * V + (1 - beta1) * dW\n",
    "\n",
    "    # Cập nhật S (RMSProp vector)\n",
    "    S = beta2 * S + (1 - beta2) * (dW ** 2)\n",
    "\n",
    "    # Bias correction cho V và S\n",
    "    V_corr = V / (1 - beta1 ** t)\n",
    "    S_corr = S / (1 - beta2 ** t)\n",
    "\n",
    "    # Cập nhật W theo công thức Adam\n",
    "    W = W - lr * V_corr / (np.sqrt(S_corr) + epsilon)\n",
    "\n",
    "    return W, V, S"
   ]
  },
  {
   "cell_type": "code",
   "execution_count": 4,
   "metadata": {},
   "outputs": [],
   "source": [
    "import numpy as np\n",
    "\n",
    "def train_p1(optimizer, lr, epochs):\n",
    "    \"\"\"\n",
    "    Thực hiện tìm điểm minimum của function (1) dựa vào thuật toán\n",
    "    được truyền vào từ optimizer\n",
    "    Arguments:\n",
    "    optimizer : function thực hiện thuật toán optimization cụ thể\n",
    "    lr -- float: learning rate\n",
    "    epochs -- int: số lượng lần (epoch) lặp để tìm điểm minimum\n",
    "    Returns:\n",
    "    results -- list: list các cặp điểm [w1, w2] sau mỗi epoch (mỗi lần cập nhật)\n",
    "    \"\"\"\n",
    "    # Khởi tạo các tham số ban đầu\n",
    "    W = np.array([-5, -2], dtype=np.float32)  # Giá trị khởi tạo [w1, w2]\n",
    "    V = np.array([0, 0], dtype=np.float32)    # Giá trị khởi tạo [v1, v2]\n",
    "    S = np.array([0, 0], dtype=np.float32)    # Giá trị khởi tạo [s1, s2]\n",
    "    results = [W.copy()]                      # Lưu kết quả sau mỗi epoch (bắt đầu bằng giá trị khởi tạo)\n",
    "\n",
    "    for t in range(1, epochs + 1):\n",
    "        dW = df_w(W)\n",
    "\n",
    "        # Sử dụng thuật toán optimizer để cập nhật W, V, và S\n",
    "        W, V, S = optimizer(W, dW, lr, V, S, beta1=0.9, beta2=0.999, t=t)\n",
    "\n",
    "        # Lưu kết quả [w1, w2] sau mỗi epoch\n",
    "        results.append(W.copy())\n",
    "\n",
    "    return results"
   ]
  },
  {
   "cell_type": "code",
   "execution_count": 5,
   "metadata": {},
   "outputs": [
    {
     "data": {
      "text/plain": [
       "[array([-5., -2.], dtype=float32),\n",
       " array([-4.8000002 , -1.80000002]),\n",
       " array([-4.60025478, -1.60082451]),\n",
       " array([-4.40094848, -1.40317262]),\n",
       " array([-4.20227764, -1.20787822]),\n",
       " array([-4.00445033, -1.01592745]),\n",
       " array([-3.80768638, -0.82847307]),\n",
       " array([-3.61221732, -0.64684159]),\n",
       " array([-3.41828623, -0.47252765]),\n",
       " array([-3.22614739, -0.30716934]),\n",
       " array([-3.03606592, -0.15249855]),\n",
       " array([-2.84831706, -0.01026326]),\n",
       " array([-2.66318543,  0.11787552]),\n",
       " array([-2.480964  ,  0.23046161]),\n",
       " array([-2.30195279,  0.3263587 ]),\n",
       " array([-2.12645742,  0.40484195]),\n",
       " array([-1.95478732,  0.46564961]),\n",
       " array([-1.7872537 ,  0.50898799]),\n",
       " array([-1.62416726,  0.53549442]),\n",
       " array([-1.46583566,  0.54617144]),\n",
       " array([-1.31256067,  0.54230812]),\n",
       " array([-1.16463526,  0.52540206]),\n",
       " array([-1.02234036,  0.4970906 ]),\n",
       " array([-0.88594163,  0.4590951 ]),\n",
       " array([-0.75568617,  0.41317781]),\n",
       " array([-0.63179919,  0.3611089 ]),\n",
       " array([-0.51448089,  0.30464048]),\n",
       " array([-0.40390346,  0.24548409]),\n",
       " array([-0.30020842,  0.18528918]),\n",
       " array([-0.20350426,  0.12562074]),\n",
       " array([-0.11386457,  0.06793529])]"
      ]
     },
     "execution_count": 5,
     "metadata": {},
     "output_type": "execute_result"
    }
   ],
   "source": [
    "train_p1(Adam, lr=0.2, epochs=30)"
   ]
  },
  {
   "cell_type": "markdown",
   "metadata": {},
   "source": []
  }
 ],
 "metadata": {
  "kernelspec": {
   "display_name": "base",
   "language": "python",
   "name": "python3"
  },
  "language_info": {
   "codemirror_mode": {
    "name": "ipython",
    "version": 3
   },
   "file_extension": ".py",
   "mimetype": "text/x-python",
   "name": "python",
   "nbconvert_exporter": "python",
   "pygments_lexer": "ipython3",
   "version": "3.11.7"
  }
 },
 "nbformat": 4,
 "nbformat_minor": 2
}
